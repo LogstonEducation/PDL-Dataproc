{
 "cells": [
  {
   "cell_type": "code",
   "execution_count": 1,
   "metadata": {},
   "outputs": [],
   "source": [
    "import time"
   ]
  },
  {
   "cell_type": "code",
   "execution_count": 2,
   "metadata": {},
   "outputs": [],
   "source": [
    "import pyspark\n",
    "from pyspark import SparkContext\n",
    "\n",
    "try:\n",
    "    sc\n",
    "except NameError:\n",
    "    sc = SparkContext()"
   ]
  },
  {
   "cell_type": "code",
   "execution_count": 3,
   "metadata": {},
   "outputs": [
    {
     "data": {
      "text/plain": [
       "[4, 10, 9]"
      ]
     },
     "execution_count": 3,
     "metadata": {},
     "output_type": "execute_result"
    }
   ],
   "source": [
    "rdd = sc.parallelize([4,10,9,7])\n",
    "rdd.take(3)"
   ]
  },
  {
   "cell_type": "code",
   "execution_count": 83,
   "metadata": {},
   "outputs": [
    {
     "data": {
      "text/plain": [
       "333328333350000"
      ]
     },
     "execution_count": 83,
     "metadata": {},
     "output_type": "execute_result"
    }
   ],
   "source": [
    "n = 100_000\n",
    "rdd = sc.parallelize(range(n), numSlices=10)\n",
    "rdd.map(lambda x: x ** 2).sum()"
   ]
  },
  {
   "cell_type": "code",
   "execution_count": 85,
   "metadata": {},
   "outputs": [
    {
     "name": "stdout",
     "output_type": "stream",
     "text": [
      "PySpark 100000 0.1241462230682373\n",
      "Python  100000 0.030167818069458008\n",
      "--\n",
      "PySpark 1000000 0.16159510612487793\n",
      "Python  1000000 0.26383113861083984\n",
      "--\n",
      "PySpark 10000000 1.564227819442749\n",
      "Python  10000000 2.732858657836914\n"
     ]
    }
   ],
   "source": [
    "# At a certain point in data size, \n",
    "# Python's internal tools will be beat in performance by a distributed processing framework.\n",
    "\n",
    "for n in (100_000, 1_000_000, 10_000_000):\n",
    "    t0 = time.time()\n",
    "    rdd = sc.parallelize(range(n), numSlices=10)\n",
    "    rdd.map(lambda x: x ** 2).sum()\n",
    "    print('PySpark', n, time.time() - t0)\n",
    "    \n",
    "    t0 = time.time()\n",
    "    sum(x ** 2 for x in range(n))\n",
    "    print('Python ', n, time.time() - t0)\n",
    "    \n",
    "    n == 10_000_000 or print('--')"
   ]
  },
  {
   "cell_type": "code",
   "execution_count": 84,
   "metadata": {},
   "outputs": [
    {
     "data": {
      "text/plain": [
       "333328333350000"
      ]
     },
     "execution_count": 84,
     "metadata": {},
     "output_type": "execute_result"
    }
   ],
   "source": [
    "# Another way to find that sum.\n",
    "# This is about as as fast as using parallelize(range(...))\n",
    "rdd = sc.range(n, numSlices=10)\n",
    "rdd.map(lambda x: x ** 2).sum()"
   ]
  },
  {
   "cell_type": "code",
   "execution_count": 107,
   "metadata": {},
   "outputs": [
    {
     "data": {
      "text/plain": [
       "[[0], [1], [2], [3], [4]]"
      ]
     },
     "execution_count": 107,
     "metadata": {},
     "output_type": "execute_result"
    }
   ],
   "source": [
    "rdd = sc.parallelize(range(5), numSlices=5)\n",
    "rdd.glom().collect()  # glom collects per partition"
   ]
  },
  {
   "cell_type": "code",
   "execution_count": 108,
   "metadata": {},
   "outputs": [
    {
     "data": {
      "text/plain": [
       "[[0, 1, 2, 3, 4]]"
      ]
     },
     "execution_count": 108,
     "metadata": {},
     "output_type": "execute_result"
    }
   ],
   "source": [
    "rdd = sc.parallelize(range(5), numSlices=1)\n",
    "rdd.glom().collect()  # only one partition in this RDD"
   ]
  },
  {
   "cell_type": "markdown",
   "metadata": {},
   "source": [
    "https://www.slideshare.net/databricks/data-wrangling-with-pyspark-for-data-scientists-who-know-pandas-with-andrew-ray"
   ]
  },
  {
   "cell_type": "code",
   "execution_count": null,
   "metadata": {},
   "outputs": [],
   "source": []
  }
 ],
 "metadata": {
  "kernelspec": {
   "display_name": "Python 3",
   "language": "python",
   "name": "python3"
  },
  "language_info": {
   "codemirror_mode": {
    "name": "ipython",
    "version": 3
   },
   "file_extension": ".py",
   "mimetype": "text/x-python",
   "name": "python",
   "nbconvert_exporter": "python",
   "pygments_lexer": "ipython3",
   "version": "3.7.4"
  }
 },
 "nbformat": 4,
 "nbformat_minor": 2
}
