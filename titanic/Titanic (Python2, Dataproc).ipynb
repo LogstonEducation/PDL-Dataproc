{
 "cells": [
  {
   "cell_type": "code",
   "execution_count": 2,
   "metadata": {},
   "outputs": [],
   "source": [
    "spark = pyspark.sql.SparkSession.builder \\\n",
    "    .master(\"local\") \\\n",
    "    .appName(\"Titanic\") \\\n",
    "    .getOrCreate()"
   ]
  },
  {
   "cell_type": "code",
   "execution_count": 3,
   "metadata": {},
   "outputs": [],
   "source": [
    "df = spark.read.csv('train.csv', header=True, inferSchema=True)"
   ]
  },
  {
   "cell_type": "code",
   "execution_count": 4,
   "metadata": {},
   "outputs": [],
   "source": [
    "import pyspark.sql.functions as f  # We tend to need this a lot. Let's import it now."
   ]
  },
  {
   "cell_type": "code",
   "execution_count": 5,
   "metadata": {},
   "outputs": [
    {
     "name": "stdout",
     "output_type": "stream",
     "text": [
      "+-----------+-----+------+--------------------+------+----+-----+-----+----------------+-------+-----+--------+\n",
      "|PassengerId|label|Pclass|                Name|   Sex| Age|SibSp|Parch|          Ticket|   Fare|Cabin|Embarked|\n",
      "+-----------+-----+------+--------------------+------+----+-----+-----+----------------+-------+-----+--------+\n",
      "|          1|    0|     3|Braund, Mr. Owen ...|  male|22.0|    1|    0|       A/5 21171|   7.25| null|       S|\n",
      "|          2|    1|     1|Cumings, Mrs. Joh...|female|38.0|    1|    0|        PC 17599|71.2833|  C85|       C|\n",
      "|          3|    1|     3|Heikkinen, Miss. ...|female|26.0|    0|    0|STON/O2. 3101282|  7.925| null|       S|\n",
      "|          4|    1|     1|Futrelle, Mrs. Ja...|female|35.0|    1|    0|          113803|   53.1| C123|       S|\n",
      "|          5|    0|     3|Allen, Mr. Willia...|  male|35.0|    0|    0|          373450|   8.05| null|       S|\n",
      "+-----------+-----+------+--------------------+------+----+-----+-----+----------------+-------+-----+--------+\n",
      "only showing top 5 rows\n",
      "\n"
     ]
    }
   ],
   "source": [
    "# Rename label column to make use of PySpark classifier defaults.\n",
    "df = df.withColumnRenamed('Survived', 'label')\n",
    "df.show(5)"
   ]
  },
  {
   "cell_type": "code",
   "execution_count": 6,
   "metadata": {},
   "outputs": [
    {
     "name": "stdout",
     "output_type": "stream",
     "text": [
      "+-----------+-----+------+--------------------+------+----+-----+-----+----------------+-------+-----+--------+\n",
      "|PassengerId|label|Pclass|                Name|   Sex| Age|SibSp|Parch|          Ticket|   Fare|Cabin|Embarked|\n",
      "+-----------+-----+------+--------------------+------+----+-----+-----+----------------+-------+-----+--------+\n",
      "|          1|    0|     3|Braund, Mr. Owen ...|  male|22.0|    1|    0|       A/5 21171|   7.25| null|       S|\n",
      "|          2|    1|     1|Cumings, Mrs. Joh...|female|38.0|    1|    0|        PC 17599|71.2833|  C85|       C|\n",
      "|          3|    1|     3|Heikkinen, Miss. ...|female|26.0|    0|    0|STON/O2. 3101282|  7.925| null|       S|\n",
      "|          4|    1|     1|Futrelle, Mrs. Ja...|female|35.0|    1|    0|          113803|   53.1| C123|       S|\n",
      "|          5|    0|     3|Allen, Mr. Willia...|  male|35.0|    0|    0|          373450|   8.05| null|       S|\n",
      "+-----------+-----+------+--------------------+------+----+-----+-----+----------------+-------+-----+--------+\n",
      "only showing top 5 rows\n",
      "\n"
     ]
    }
   ],
   "source": [
    "# Let's ensure Age has a non-null value.\n",
    "df = df.withColumn('Age', f.when(f.col(\"Age\").isNull(), -1).otherwise(f.col(\"Age\")))\n",
    "df.show(5)"
   ]
  },
  {
   "cell_type": "code",
   "execution_count": 7,
   "metadata": {},
   "outputs": [
    {
     "name": "stdout",
     "output_type": "stream",
     "text": [
      "+-----------+-----+------+--------------------+---+----+-----+-----+----------------+-------+-----+--------+\n",
      "|PassengerId|label|Pclass|                Name|Sex| Age|SibSp|Parch|          Ticket|   Fare|Cabin|Embarked|\n",
      "+-----------+-----+------+--------------------+---+----+-----+-----+----------------+-------+-----+--------+\n",
      "|          1|    0|     3|Braund, Mr. Owen ...|  1|22.0|    1|    0|       A/5 21171|   7.25| null|       S|\n",
      "|          2|    1|     1|Cumings, Mrs. Joh...|  0|38.0|    1|    0|        PC 17599|71.2833|  C85|       C|\n",
      "|          3|    1|     3|Heikkinen, Miss. ...|  0|26.0|    0|    0|STON/O2. 3101282|  7.925| null|       S|\n",
      "|          4|    1|     1|Futrelle, Mrs. Ja...|  0|35.0|    1|    0|          113803|   53.1| C123|       S|\n",
      "|          5|    0|     3|Allen, Mr. Willia...|  1|35.0|    0|    0|          373450|   8.05| null|       S|\n",
      "+-----------+-----+------+--------------------+---+----+-----+-----+----------------+-------+-----+--------+\n",
      "only showing top 5 rows\n",
      "\n"
     ]
    }
   ],
   "source": [
    "# Let's cast the Sex column types to integers so the ML classifier can leverage this data.\n",
    "df = df.withColumn('Sex',\n",
    "    f.when(\n",
    "        f.col('Sex') == 'male', 1\n",
    "    ).when(\n",
    "        f.col('Sex') == 'female', 0\n",
    "    ).otherwise(-1)\n",
    ")\n",
    "df.show(5)"
   ]
  },
  {
   "cell_type": "code",
   "execution_count": 8,
   "metadata": {},
   "outputs": [
    {
     "data": {
      "text/plain": [
       "{Row(Embarked='C'), Row(Embarked='Q'), Row(Embarked='S'), Row(Embarked=None)}"
      ]
     },
     "execution_count": 8,
     "metadata": {},
     "output_type": "execute_result"
    }
   ],
   "source": [
    "set(df.select('Embarked').collect())  # Let's see our enum options..."
   ]
  },
  {
   "cell_type": "code",
   "execution_count": 9,
   "metadata": {},
   "outputs": [
    {
     "name": "stdout",
     "output_type": "stream",
     "text": [
      "+-----------+-----+------+--------------------+---+----+-----+-----+----------------+-------+-----+--------+\n",
      "|PassengerId|label|Pclass|                Name|Sex| Age|SibSp|Parch|          Ticket|   Fare|Cabin|Embarked|\n",
      "+-----------+-----+------+--------------------+---+----+-----+-----+----------------+-------+-----+--------+\n",
      "|          1|    0|     3|Braund, Mr. Owen ...|  1|22.0|    1|    0|       A/5 21171|   7.25| null|       3|\n",
      "|          2|    1|     1|Cumings, Mrs. Joh...|  0|38.0|    1|    0|        PC 17599|71.2833|  C85|       1|\n",
      "|          3|    1|     3|Heikkinen, Miss. ...|  0|26.0|    0|    0|STON/O2. 3101282|  7.925| null|       3|\n",
      "|          4|    1|     1|Futrelle, Mrs. Ja...|  0|35.0|    1|    0|          113803|   53.1| C123|       3|\n",
      "|          5|    0|     3|Allen, Mr. Willia...|  1|35.0|    0|    0|          373450|   8.05| null|       3|\n",
      "+-----------+-----+------+--------------------+---+----+-----+-----+----------------+-------+-----+--------+\n",
      "only showing top 5 rows\n",
      "\n"
     ]
    }
   ],
   "source": [
    "# Again, let's cast the Embarked column to something numeric.\n",
    "df = df.withColumn('Embarked',\n",
    "    f.when(\n",
    "        f.col('Embarked') == 'C', 1\n",
    "    ).when(\n",
    "        f.col('Embarked') == 'Q', 2\n",
    "    ).when(\n",
    "        f.col('Embarked') == 'S', 3\n",
    "    ).otherwise(-1)  \n",
    ")\n",
    "df.show(5)"
   ]
  },
  {
   "cell_type": "code",
   "execution_count": 10,
   "metadata": {},
   "outputs": [],
   "source": [
    "df = df.withColumn('Fare', f.when(f.col(\"Fare\").isNull(), -1).otherwise(f.col(\"Fare\")))"
   ]
  },
  {
   "cell_type": "code",
   "execution_count": 11,
   "metadata": {},
   "outputs": [
    {
     "name": "stdout",
     "output_type": "stream",
     "text": [
      "+-----------+-----+------+--------------------+---+----+-----+-----+----------------+-------+-----+--------+\n",
      "|PassengerId|label|Pclass|                Name|Sex| Age|SibSp|Parch|          Ticket|   Fare|Cabin|Embarked|\n",
      "+-----------+-----+------+--------------------+---+----+-----+-----+----------------+-------+-----+--------+\n",
      "|          1|    0|     3|Braund, Mr. Owen ...|  1|22.0|    1|    0|       A/5 21171|   7.25|   -1|       3|\n",
      "|          2|    1|     1|Cumings, Mrs. Joh...|  0|38.0|    1|    0|        PC 17599|71.2833|   99|       1|\n",
      "|          3|    1|     3|Heikkinen, Miss. ...|  0|26.0|    0|    0|STON/O2. 3101282|  7.925|   -1|       3|\n",
      "|          4|    1|     1|Futrelle, Mrs. Ja...|  0|35.0|    1|    0|          113803|   53.1|   99|       3|\n",
      "|          5|    0|     3|Allen, Mr. Willia...|  1|35.0|    0|    0|          373450|   8.05|   -1|       3|\n",
      "+-----------+-----+------+--------------------+---+----+-----+-----+----------------+-------+-----+--------+\n",
      "only showing top 5 rows\n",
      "\n"
     ]
    }
   ],
   "source": [
    "# Let's clean up the Cabin column by casting the cabin class to an integer and replacing nulls with -1. \n",
    "df = df.withColumn('Cabin', f.lower(f.col('Cabin')))\n",
    "df = df.withColumn('Cabin', f.substring(f.col('Cabin'), 0, 1))\n",
    "df = df.withColumn('Cabin', f.ascii(f.col('Cabin')))\n",
    "df = df.withColumn('Cabin', f.when(f.col(\"Cabin\").isNull(), -1).otherwise(f.col(\"Cabin\")))\n",
    "\n",
    "df.show(5)"
   ]
  },
  {
   "cell_type": "code",
   "execution_count": 12,
   "metadata": {},
   "outputs": [],
   "source": [
    "feature_cols = set(df.columns)\n",
    "feature_cols -= {'PassengerId', 'label', 'Name', 'Ticket'}\n",
    "feature_cols = list(feature_cols)"
   ]
  },
  {
   "cell_type": "code",
   "execution_count": 13,
   "metadata": {},
   "outputs": [
    {
     "data": {
      "text/plain": [
       "DataFrame[PassengerId: int, label: int, Pclass: int, Name: string, Sex: int, Age: double, SibSp: int, Parch: int, Ticket: string, Fare: double, Cabin: int, Embarked: int, features: vector]"
      ]
     },
     "execution_count": 13,
     "metadata": {},
     "output_type": "execute_result"
    }
   ],
   "source": [
    "from pyspark.ml.linalg import Vectors\n",
    "from pyspark.ml.feature import VectorAssembler\n",
    "\n",
    "features = VectorAssembler(\n",
    "    inputCols=feature_cols,\n",
    "    outputCol=\"features\",  # PySpark uses this as the default column\n",
    ").transform(df)\n",
    "\n",
    "features"
   ]
  },
  {
   "cell_type": "code",
   "execution_count": 14,
   "metadata": {},
   "outputs": [],
   "source": [
    "train, test = features.randomSplit([1.0, 0.0], seed=2018)\n",
    "train, test = features.randomSplit([0.7, 0.3], seed=2018)"
   ]
  },
  {
   "cell_type": "code",
   "execution_count": 15,
   "metadata": {},
   "outputs": [],
   "source": [
    "import pyspark.ml.classification"
   ]
  },
  {
   "cell_type": "code",
   "execution_count": 16,
   "metadata": {},
   "outputs": [],
   "source": [
    "from pyspark.ml.classification import RandomForestClassifier\n",
    "\n",
    "classifier = RandomForestClassifier()\n",
    "\n",
    "model = classifier.fit(train)\n",
    "\n",
    "predictions = model.transform(test)"
   ]
  },
  {
   "cell_type": "code",
   "execution_count": 17,
   "metadata": {},
   "outputs": [
    {
     "name": "stdout",
     "output_type": "stream",
     "text": [
      "Test Area Under ROC 0.8606658047834521\n"
     ]
    }
   ],
   "source": [
    "from pyspark.ml.evaluation import BinaryClassificationEvaluator\n",
    "\n",
    "print('Test Area Under ROC', BinaryClassificationEvaluator().evaluate(predictions))"
   ]
  },
  {
   "cell_type": "code",
   "execution_count": 19,
   "metadata": {},
   "outputs": [],
   "source": [
    "df = spark.read.csv('/Users/paul/Code/Columbia/PDL-Cloudproc/titanic/test.csv', header=True, inferSchema=True)\n",
    "df = df.withColumnRenamed('Survived', 'label')\n",
    "df = df.withColumn('Age', f.when(f.col(\"Age\").isNull(), -1).otherwise(f.col(\"Age\")))\n",
    "df = df.withColumn('Sex',\n",
    "    f.when(\n",
    "        f.col('Sex') == 'male', 1\n",
    "    ).when(\n",
    "        f.col('Sex') == 'female', 0\n",
    "    ).otherwise(-1)\n",
    ")\n",
    "df = df.withColumn('Embarked',\n",
    "    f.when(\n",
    "        f.col('Embarked') == 'C', 1\n",
    "    ).when(\n",
    "        f.col('Embarked') == 'Q', 2\n",
    "    ).when(\n",
    "        f.col('Embarked') == 'S', 3\n",
    "    ).otherwise(-1)  \n",
    ")\n",
    "df = df.withColumn('Fare', f.when(f.col(\"Fare\").isNull(), -1).otherwise(f.col(\"Fare\")))\n",
    "df = df.withColumn('Cabin', f.lower(f.col('Cabin')))\n",
    "df = df.withColumn('Cabin', f.substring(f.col('Cabin'), 0, 1))\n",
    "df = df.withColumn('Cabin', f.ascii(f.col('Cabin')))\n",
    "df = df.withColumn('Cabin', f.when(f.col(\"Cabin\").isNull(), -1).otherwise(f.col(\"Cabin\")))\n",
    "\n",
    "feature_cols = set(df.columns)\n",
    "feature_cols -= {'PassengerId', 'label', 'Name', 'Ticket'}\n",
    "feature_cols = list(feature_cols)\n",
    "\n",
    "features = VectorAssembler(\n",
    "    inputCols=feature_cols,\n",
    "    outputCol=\"features\",\n",
    ").transform(df)\n",
    "\n",
    "predictions = model.transform(features)"
   ]
  },
  {
   "cell_type": "code",
   "execution_count": 20,
   "metadata": {},
   "outputs": [],
   "source": [
    "predictions = predictions.withColumnRenamed('prediction', 'Survived')"
   ]
  },
  {
   "cell_type": "code",
   "execution_count": 23,
   "metadata": {
    "scrolled": true
   },
   "outputs": [],
   "source": [
    "# predictions.select(['PassengerId', 'Survived']).coalesce(1).write.csv('results.csv')"
   ]
  },
  {
   "cell_type": "code",
   "execution_count": 25,
   "metadata": {},
   "outputs": [
    {
     "data": {
      "text/html": [
       "<div>\n",
       "<style scoped>\n",
       "    .dataframe tbody tr th:only-of-type {\n",
       "        vertical-align: middle;\n",
       "    }\n",
       "\n",
       "    .dataframe tbody tr th {\n",
       "        vertical-align: top;\n",
       "    }\n",
       "\n",
       "    .dataframe thead th {\n",
       "        text-align: right;\n",
       "    }\n",
       "</style>\n",
       "<table border=\"1\" class=\"dataframe\">\n",
       "  <thead>\n",
       "    <tr style=\"text-align: right;\">\n",
       "      <th></th>\n",
       "      <th>PassengerId</th>\n",
       "      <th>Survived</th>\n",
       "    </tr>\n",
       "  </thead>\n",
       "  <tbody>\n",
       "    <tr>\n",
       "      <td>0</td>\n",
       "      <td>892</td>\n",
       "      <td>0.0</td>\n",
       "    </tr>\n",
       "    <tr>\n",
       "      <td>1</td>\n",
       "      <td>893</td>\n",
       "      <td>0.0</td>\n",
       "    </tr>\n",
       "    <tr>\n",
       "      <td>2</td>\n",
       "      <td>894</td>\n",
       "      <td>0.0</td>\n",
       "    </tr>\n",
       "    <tr>\n",
       "      <td>3</td>\n",
       "      <td>895</td>\n",
       "      <td>0.0</td>\n",
       "    </tr>\n",
       "    <tr>\n",
       "      <td>4</td>\n",
       "      <td>896</td>\n",
       "      <td>1.0</td>\n",
       "    </tr>\n",
       "  </tbody>\n",
       "</table>\n",
       "</div>"
      ],
      "text/plain": [
       "   PassengerId  Survived\n",
       "0          892       0.0\n",
       "1          893       0.0\n",
       "2          894       0.0\n",
       "3          895       0.0\n",
       "4          896       1.0"
      ]
     },
     "execution_count": 25,
     "metadata": {},
     "output_type": "execute_result"
    }
   ],
   "source": [
    "pddf = predictions.select(['PassengerId', 'Survived']).toPandas()\n",
    "pddf.head()"
   ]
  },
  {
   "cell_type": "code",
   "execution_count": 29,
   "metadata": {},
   "outputs": [
    {
     "data": {
      "text/html": [
       "<div>\n",
       "<style scoped>\n",
       "    .dataframe tbody tr th:only-of-type {\n",
       "        vertical-align: middle;\n",
       "    }\n",
       "\n",
       "    .dataframe tbody tr th {\n",
       "        vertical-align: top;\n",
       "    }\n",
       "\n",
       "    .dataframe thead th {\n",
       "        text-align: right;\n",
       "    }\n",
       "</style>\n",
       "<table border=\"1\" class=\"dataframe\">\n",
       "  <thead>\n",
       "    <tr style=\"text-align: right;\">\n",
       "      <th></th>\n",
       "      <th>PassengerId</th>\n",
       "      <th>Survived</th>\n",
       "    </tr>\n",
       "  </thead>\n",
       "  <tbody>\n",
       "    <tr>\n",
       "      <td>0</td>\n",
       "      <td>892</td>\n",
       "      <td>0</td>\n",
       "    </tr>\n",
       "    <tr>\n",
       "      <td>1</td>\n",
       "      <td>893</td>\n",
       "      <td>0</td>\n",
       "    </tr>\n",
       "    <tr>\n",
       "      <td>2</td>\n",
       "      <td>894</td>\n",
       "      <td>0</td>\n",
       "    </tr>\n",
       "    <tr>\n",
       "      <td>3</td>\n",
       "      <td>895</td>\n",
       "      <td>0</td>\n",
       "    </tr>\n",
       "    <tr>\n",
       "      <td>4</td>\n",
       "      <td>896</td>\n",
       "      <td>1</td>\n",
       "    </tr>\n",
       "  </tbody>\n",
       "</table>\n",
       "</div>"
      ],
      "text/plain": [
       "   PassengerId  Survived\n",
       "0          892         0\n",
       "1          893         0\n",
       "2          894         0\n",
       "3          895         0\n",
       "4          896         1"
      ]
     },
     "execution_count": 29,
     "metadata": {},
     "output_type": "execute_result"
    }
   ],
   "source": [
    "pddf['Survived'] = pddf['Survived'].astype('int')\n",
    "pddf.head()"
   ]
  },
  {
   "cell_type": "code",
   "execution_count": 30,
   "metadata": {},
   "outputs": [],
   "source": [
    "from datetime import datetime\n",
    "\n",
    "pddf.to_csv(f'{datetime.now().strftime(\"%Y-%m-%dT%H:%M\")}.csv', index=False, header=True)"
   ]
  }
 ],
 "metadata": {
  "kernelspec": {
   "display_name": "Python 3",
   "language": "python",
   "name": "python3"
  },
  "language_info": {
   "codemirror_mode": {
    "name": "ipython",
    "version": 3
   },
   "file_extension": ".py",
   "mimetype": "text/x-python",
   "name": "python",
   "nbconvert_exporter": "python",
   "pygments_lexer": "ipython3",
   "version": "3.7.4"
  }
 },
 "nbformat": 4,
 "nbformat_minor": 2
}
