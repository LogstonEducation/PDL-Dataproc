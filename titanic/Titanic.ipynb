{
 "cells": [
  {
   "cell_type": "code",
   "execution_count": 1,
   "metadata": {},
   "outputs": [],
   "source": [
    "import pyspark\n",
    "from pyspark import SparkContext\n",
    "\n",
    "try:\n",
    "    sc\n",
    "except NameError:\n",
    "    sc = SparkContext()"
   ]
  },
  {
   "cell_type": "code",
   "execution_count": 2,
   "metadata": {},
   "outputs": [],
   "source": [
    "spark = pyspark.sql.SparkSession.builder \\\n",
    "    .master(\"local\") \\\n",
    "    .appName(\"Titanic\") \\\n",
    "    .getOrCreate()"
   ]
  },
  {
   "cell_type": "code",
   "execution_count": 3,
   "metadata": {},
   "outputs": [],
   "source": [
    "df = spark.read.csv('/Users/paul/Code/Columbia/PDL-Cloudproc/titanic/train.csv', header=True, inferSchema=True)"
   ]
  },
  {
   "cell_type": "code",
   "execution_count": 4,
   "metadata": {},
   "outputs": [
    {
     "name": "stdout",
     "output_type": "stream",
     "text": [
      "+-----------+--------+------+--------------------+------+----+-----+-----+----------------+-------+-----+--------+\n",
      "|PassengerId|Survived|Pclass|                Name|   Sex| Age|SibSp|Parch|          Ticket|   Fare|Cabin|Embarked|\n",
      "+-----------+--------+------+--------------------+------+----+-----+-----+----------------+-------+-----+--------+\n",
      "|          1|       0|     3|Braund, Mr. Owen ...|  male|22.0|    1|    0|       A/5 21171|   7.25| null|       S|\n",
      "|          2|       1|     1|Cumings, Mrs. Joh...|female|38.0|    1|    0|        PC 17599|71.2833|  C85|       C|\n",
      "|          3|       1|     3|Heikkinen, Miss. ...|female|26.0|    0|    0|STON/O2. 3101282|  7.925| null|       S|\n",
      "|          4|       1|     1|Futrelle, Mrs. Ja...|female|35.0|    1|    0|          113803|   53.1| C123|       S|\n",
      "|          5|       0|     3|Allen, Mr. Willia...|  male|35.0|    0|    0|          373450|   8.05| null|       S|\n",
      "+-----------+--------+------+--------------------+------+----+-----+-----+----------------+-------+-----+--------+\n",
      "only showing top 5 rows\n",
      "\n"
     ]
    }
   ],
   "source": [
    "df.show(5)"
   ]
  },
  {
   "cell_type": "code",
   "execution_count": 5,
   "metadata": {},
   "outputs": [
    {
     "name": "stdout",
     "output_type": "stream",
     "text": [
      "+-----------+--------+------+------+----+-----+-----+-------+-----+--------+\n",
      "|PassengerId|Survived|Pclass|   Sex| Age|SibSp|Parch|   Fare|Cabin|Embarked|\n",
      "+-----------+--------+------+------+----+-----+-----+-------+-----+--------+\n",
      "|          1|       0|     3|  male|22.0|    1|    0|   7.25| null|       S|\n",
      "|          2|       1|     1|female|38.0|    1|    0|71.2833|  C85|       C|\n",
      "|          3|       1|     3|female|26.0|    0|    0|  7.925| null|       S|\n",
      "|          4|       1|     1|female|35.0|    1|    0|   53.1| C123|       S|\n",
      "|          5|       0|     3|  male|35.0|    0|    0|   8.05| null|       S|\n",
      "+-----------+--------+------+------+----+-----+-----+-------+-----+--------+\n",
      "only showing top 5 rows\n",
      "\n"
     ]
    }
   ],
   "source": [
    "# df = df.drop('Name', 'Ticket')\n",
    "# df.show(5)"
   ]
  },
  {
   "cell_type": "code",
   "execution_count": 6,
   "metadata": {},
   "outputs": [],
   "source": [
    "import pyspark.sql.functions as f\n",
    "\n",
    "df = df.withColumn('Age', f.when(f.col(\"Age\").isNull(), -1).otherwise(f.col(\"Age\")))"
   ]
  },
  {
   "cell_type": "code",
   "execution_count": 7,
   "metadata": {},
   "outputs": [
    {
     "name": "stdout",
     "output_type": "stream",
     "text": [
      "+-----------+--------+------+------+----+-----+-----+-------+-----+--------+\n",
      "|PassengerId|Survived|Pclass|   Sex| Age|SibSp|Parch|   Fare|Cabin|Embarked|\n",
      "+-----------+--------+------+------+----+-----+-----+-------+-----+--------+\n",
      "|          1|       0|     3|  male|22.0|    1|    0|   7.25| null|       S|\n",
      "|          2|       1|     1|female|38.0|    1|    0|71.2833|  C85|       C|\n",
      "|          3|       1|     3|female|26.0|    0|    0|  7.925| null|       S|\n",
      "|          4|       1|     1|female|35.0|    1|    0|   53.1| C123|       S|\n",
      "|          5|       0|     3|  male|35.0|    0|    0|   8.05| null|       S|\n",
      "+-----------+--------+------+------+----+-----+-----+-------+-----+--------+\n",
      "only showing top 5 rows\n",
      "\n"
     ]
    }
   ],
   "source": [
    "# df = df.dropna()\n",
    "df.show(5)"
   ]
  },
  {
   "cell_type": "code",
   "execution_count": 8,
   "metadata": {},
   "outputs": [
    {
     "name": "stdout",
     "output_type": "stream",
     "text": [
      "+-----------+--------+------+---+----+-----+-----+-------+-----+--------+\n",
      "|PassengerId|Survived|Pclass|Sex| Age|SibSp|Parch|   Fare|Cabin|Embarked|\n",
      "+-----------+--------+------+---+----+-----+-----+-------+-----+--------+\n",
      "|          1|       0|     3|  1|22.0|    1|    0|   7.25| null|       S|\n",
      "|          2|       1|     1|  0|38.0|    1|    0|71.2833|  C85|       C|\n",
      "|          3|       1|     3|  0|26.0|    0|    0|  7.925| null|       S|\n",
      "|          4|       1|     1|  0|35.0|    1|    0|   53.1| C123|       S|\n",
      "|          5|       0|     3|  1|35.0|    0|    0|   8.05| null|       S|\n",
      "+-----------+--------+------+---+----+-----+-----+-------+-----+--------+\n",
      "only showing top 5 rows\n",
      "\n"
     ]
    }
   ],
   "source": [
    "df = df.withColumn('Sex',\n",
    "    f.when(\n",
    "        f.col('Sex') == 'male', 1\n",
    "    ).when(\n",
    "        f.col('Sex') == 'female', 0\n",
    "    )\n",
    ")\n",
    "df.show(5)"
   ]
  },
  {
   "cell_type": "code",
   "execution_count": 9,
   "metadata": {},
   "outputs": [
    {
     "name": "stdout",
     "output_type": "stream",
     "text": [
      "+-----------+--------+------+---+----+-----+-----+-------+-----+--------+\n",
      "|PassengerId|Survived|Pclass|Sex| Age|SibSp|Parch|   Fare|Cabin|Embarked|\n",
      "+-----------+--------+------+---+----+-----+-----+-------+-----+--------+\n",
      "|          1|       0|     3|  0|22.0|    1|    0|   7.25| null|       S|\n",
      "|          2|       1|     1|  0|38.0|    1|    0|71.2833|  C85|       C|\n",
      "|          3|       1|     3|  0|26.0|    0|    0|  7.925| null|       S|\n",
      "|          4|       1|     1|  0|35.0|    1|    0|   53.1| C123|       S|\n",
      "|          5|       0|     3|  0|35.0|    0|    0|   8.05| null|       S|\n",
      "+-----------+--------+------+---+----+-----+-----+-------+-----+--------+\n",
      "only showing top 5 rows\n",
      "\n"
     ]
    }
   ],
   "source": [
    "from pyspark.sql.functions import udf\n",
    "from pyspark.sql.types import IntegerType\n",
    "\n",
    "def male(x):\n",
    "    return int(x == 'male')\n",
    "\n",
    "is_male = udf(male, IntegerType())\n",
    "df.withColumn(\"Sex\", is_male(\"Sex\")).show(5)"
   ]
  },
  {
   "cell_type": "code",
   "execution_count": 10,
   "metadata": {},
   "outputs": [
    {
     "data": {
      "text/plain": [
       "{Row(Embarked='C'), Row(Embarked='Q'), Row(Embarked='S'), Row(Embarked=None)}"
      ]
     },
     "execution_count": 10,
     "metadata": {},
     "output_type": "execute_result"
    }
   ],
   "source": [
    "set(df.select('Embarked').collect())"
   ]
  },
  {
   "cell_type": "code",
   "execution_count": 11,
   "metadata": {},
   "outputs": [
    {
     "name": "stdout",
     "output_type": "stream",
     "text": [
      "+-----------+--------+------+---+----+-----+-----+-------+-----+--------+\n",
      "|PassengerId|Survived|Pclass|Sex| Age|SibSp|Parch|   Fare|Cabin|Embarked|\n",
      "+-----------+--------+------+---+----+-----+-----+-------+-----+--------+\n",
      "|          1|       0|     3|  1|22.0|    1|    0|   7.25| null|       3|\n",
      "|          2|       1|     1|  0|38.0|    1|    0|71.2833|  C85|       1|\n",
      "|          3|       1|     3|  0|26.0|    0|    0|  7.925| null|       3|\n",
      "|          4|       1|     1|  0|35.0|    1|    0|   53.1| C123|       3|\n",
      "|          5|       0|     3|  1|35.0|    0|    0|   8.05| null|       3|\n",
      "+-----------+--------+------+---+----+-----+-----+-------+-----+--------+\n",
      "only showing top 5 rows\n",
      "\n"
     ]
    }
   ],
   "source": [
    "def embarked(x):\n",
    "    return {\n",
    "        'C': 1,\n",
    "        'Q': 2,\n",
    "        'S': 3,\n",
    "        None: -1,\n",
    "    }.get(x)\n",
    "\n",
    "df.withColumn(\"Embarked\", udf(embarked, IntegerType())('Embarked'))\n",
    "\n",
    "df = df.withColumn('Embarked',\n",
    "    f.when(\n",
    "        f.col('Embarked') == 'C', 1\n",
    "    ).when(\n",
    "        f.col('Embarked') == 'Q', 2\n",
    "    ).when(\n",
    "        f.col('Embarked') == 'S', 3\n",
    "    ).otherwise(-1)  \n",
    ")\n",
    "df.show(5)"
   ]
  },
  {
   "cell_type": "code",
   "execution_count": 12,
   "metadata": {},
   "outputs": [
    {
     "name": "stdout",
     "output_type": "stream",
     "text": [
      "+-----------+--------+------+---+----+-----+-----+-------+-----+--------+\n",
      "|PassengerId|Survived|Pclass|Sex| Age|SibSp|Parch|   Fare|Cabin|Embarked|\n",
      "+-----------+--------+------+---+----+-----+-----+-------+-----+--------+\n",
      "|          1|       0|     3|  1|22.0|    1|    0|   7.25| null|       3|\n",
      "|          2|       1|     1|  0|38.0|    1|    0|71.2833|  c85|       1|\n",
      "|          3|       1|     3|  0|26.0|    0|    0|  7.925| null|       3|\n",
      "|          4|       1|     1|  0|35.0|    1|    0|   53.1| c123|       3|\n",
      "|          5|       0|     3|  1|35.0|    0|    0|   8.05| null|       3|\n",
      "+-----------+--------+------+---+----+-----+-----+-------+-----+--------+\n",
      "only showing top 5 rows\n",
      "\n"
     ]
    }
   ],
   "source": [
    "df = df.withColumn('Cabin', f.lower(f.col('Cabin')))\n",
    "df.show(5)"
   ]
  },
  {
   "cell_type": "code",
   "execution_count": 13,
   "metadata": {},
   "outputs": [
    {
     "name": "stdout",
     "output_type": "stream",
     "text": [
      "+-----------+--------+------+---+----+-----+-----+-------+-----+--------+\n",
      "|PassengerId|Survived|Pclass|Sex| Age|SibSp|Parch|   Fare|Cabin|Embarked|\n",
      "+-----------+--------+------+---+----+-----+-----+-------+-----+--------+\n",
      "|          1|       0|     3|  1|22.0|    1|    0|   7.25| null|       3|\n",
      "|          2|       1|     1|  0|38.0|    1|    0|71.2833|    c|       1|\n",
      "|          3|       1|     3|  0|26.0|    0|    0|  7.925| null|       3|\n",
      "|          4|       1|     1|  0|35.0|    1|    0|   53.1|    c|       3|\n",
      "|          5|       0|     3|  1|35.0|    0|    0|   8.05| null|       3|\n",
      "+-----------+--------+------+---+----+-----+-----+-------+-----+--------+\n",
      "only showing top 5 rows\n",
      "\n"
     ]
    }
   ],
   "source": [
    "df = df.withColumn('Cabin', f.substring(f.col('Cabin'), 0, 1))\n",
    "df.show(5)"
   ]
  },
  {
   "cell_type": "code",
   "execution_count": 14,
   "metadata": {},
   "outputs": [
    {
     "name": "stdout",
     "output_type": "stream",
     "text": [
      "+-----------+--------+------+---+----+-----+-----+-------+-----+--------+\n",
      "|PassengerId|Survived|Pclass|Sex| Age|SibSp|Parch|   Fare|Cabin|Embarked|\n",
      "+-----------+--------+------+---+----+-----+-----+-------+-----+--------+\n",
      "|          1|       0|     3|  1|22.0|    1|    0|   7.25|   -1|       3|\n",
      "|          2|       1|     1|  0|38.0|    1|    0|71.2833|    2|       1|\n",
      "|          3|       1|     3|  0|26.0|    0|    0|  7.925|   -1|       3|\n",
      "|          4|       1|     1|  0|35.0|    1|    0|   53.1|    2|       3|\n",
      "|          5|       0|     3|  1|35.0|    0|    0|   8.05|   -1|       3|\n",
      "+-----------+--------+------+---+----+-----+-----+-------+-----+--------+\n",
      "only showing top 5 rows\n",
      "\n"
     ]
    }
   ],
   "source": [
    "import string\n",
    "\n",
    "def cabin_level(x):\n",
    "    if x is None:\n",
    "        return -1\n",
    "\n",
    "    return string.ascii_lowercase.index(x)\n",
    "\n",
    "df = df.withColumn(\"Cabin\", udf(cabin_level, IntegerType())('Cabin'))\n",
    "df.show(5)"
   ]
  },
  {
   "cell_type": "code",
   "execution_count": 15,
   "metadata": {},
   "outputs": [
    {
     "data": {
      "text/plain": [
       "['Pclass', 'Sex', 'Age', 'SibSp', 'Parch', 'Fare', 'Cabin', 'Embarked']"
      ]
     },
     "execution_count": 15,
     "metadata": {},
     "output_type": "execute_result"
    }
   ],
   "source": [
    "feature_cols = list(df.columns)\n",
    "feature_cols.remove('Survived')\n",
    "feature_cols.remove('PassengerId')\n",
    "# feature_cols.remove('Cabin')\n",
    "feature_cols"
   ]
  },
  {
   "cell_type": "code",
   "execution_count": 29,
   "metadata": {},
   "outputs": [],
   "source": [
    "VectorAssembler?"
   ]
  },
  {
   "cell_type": "code",
   "execution_count": 16,
   "metadata": {},
   "outputs": [
    {
     "data": {
      "text/plain": [
       "DataFrame[PassengerId: int, Survived: int, Pclass: int, Sex: int, Age: double, SibSp: int, Parch: int, Fare: double, Cabin: int, Embarked: int, features: vector]"
      ]
     },
     "execution_count": 16,
     "metadata": {},
     "output_type": "execute_result"
    }
   ],
   "source": [
    "from pyspark.ml.linalg import Vectors\n",
    "from pyspark.ml.feature import VectorAssembler\n",
    "\n",
    "features = VectorAssembler(\n",
    "    inputCols=feature_cols,\n",
    "    outputCol=\"features\",  # PySpark uses this as the default column\n",
    "\n",
    ").transform(df)\n",
    "features"
   ]
  },
  {
   "cell_type": "code",
   "execution_count": 17,
   "metadata": {},
   "outputs": [],
   "source": [
    "train, test = features.randomSplit([1.0, 0.0], seed=2018)\n",
    "# train, test = features.randomSplit([0.7, 0.3], seed=2018)"
   ]
  },
  {
   "cell_type": "code",
   "execution_count": 18,
   "metadata": {},
   "outputs": [],
   "source": [
    "from pyspark.ml.classification import LogisticRegression"
   ]
  },
  {
   "cell_type": "code",
   "execution_count": 19,
   "metadata": {},
   "outputs": [],
   "source": [
    "lr = LogisticRegression(maxIter=10, featuresCol='features', labelCol='Survived')\n",
    "\n",
    "model = lr.fit(train)"
   ]
  },
  {
   "cell_type": "code",
   "execution_count": 20,
   "metadata": {},
   "outputs": [
    {
     "data": {
      "text/plain": [
       "(DenseMatrix(1, 8, [-0.5246, -2.9063, -0.0312, -0.3224, -0.1403, 0.0087, 0.1996, -0.1354], 1),\n",
       " DenseVector([3.5279]))"
      ]
     },
     "execution_count": 20,
     "metadata": {},
     "output_type": "execute_result"
    }
   ],
   "source": [
    "model.coefficientMatrix, model.interceptVector"
   ]
  },
  {
   "cell_type": "code",
   "execution_count": 21,
   "metadata": {},
   "outputs": [
    {
     "name": "stdout",
     "output_type": "stream",
     "text": [
      "+------+---+---+-----+-----+----+-----+--------+\n",
      "|Pclass|Sex|Age|SibSp|Parch|Fare|Cabin|Embarked|\n",
      "+------+---+---+-----+-----+----+-----+--------+\n",
      "+------+---+---+-----+-----+----+-----+--------+\n",
      "\n"
     ]
    }
   ],
   "source": [
    "predictions = model.transform(test)\n",
    "predictions.select(*feature_cols).show(10)"
   ]
  },
  {
   "cell_type": "code",
   "execution_count": 22,
   "metadata": {},
   "outputs": [
    {
     "name": "stdout",
     "output_type": "stream",
     "text": [
      "Test Area Under ROC 0.5\n"
     ]
    }
   ],
   "source": [
    "from pyspark.ml.evaluation import BinaryClassificationEvaluator\n",
    "\n",
    "print('Test Area Under ROC', BinaryClassificationEvaluator(labelCol='Survived').evaluate(predictions))"
   ]
  },
  {
   "cell_type": "code",
   "execution_count": 23,
   "metadata": {},
   "outputs": [],
   "source": [
    "test_df = spark.read.csv('/Users/paul/Code/Columbia/PDL-Cloudproc/titanic/test.csv', header=True, inferSchema=True)\n",
    "test_df = test_df.drop('Name', 'Ticket')\n",
    "test_df = test_df.withColumn('Age', f.when(f.col(\"Age\").isNull(), -1).otherwise(f.col(\"Age\")))\n",
    "test_df = test_df.withColumn('Sex',\n",
    "    f.when(\n",
    "        f.col('Sex') == 'male', 1\n",
    "    ).when(\n",
    "        f.col('Sex') == 'female', 0\n",
    "    )\n",
    ")\n",
    "test_df = test_df.withColumn('Embarked',\n",
    "    f.when(\n",
    "        f.col('Embarked') == 'C', 1\n",
    "    ).when(\n",
    "        f.col('Embarked') == 'Q', 2\n",
    "    ).when(\n",
    "        f.col('Embarked') == 'S', 3\n",
    "    ).otherwise(-1)  \n",
    ")\n",
    "# test_df = test_df.drop('Cabin')\n",
    "test_df = test_df.withColumn('Cabin', f.lower(f.col('Cabin')))\n",
    "test_df = test_df.withColumn('Cabin', f.substring(f.col('Cabin'), 0, 1))\n",
    "test_df = test_df.withColumn(\"Cabin\", udf(cabin_level, IntegerType())('Cabin'))\n",
    "\n",
    "feature_cols = list(test_df.columns)\n",
    "feature_cols.remove('PassengerId')\n",
    "feature_cols\n",
    "\n",
    "test = VectorAssembler(\n",
    "    inputCols=feature_cols,\n",
    "    outputCol=\"features\",\n",
    ").transform(test_df.fillna(0))\n",
    "\n",
    "predictions = model.transform(test)"
   ]
  },
  {
   "cell_type": "code",
   "execution_count": 24,
   "metadata": {
    "scrolled": true
   },
   "outputs": [],
   "source": [
    "# predictions.select(['PassengerId', 'prediction']).coalesce(1).write.csv('results.csv')"
   ]
  },
  {
   "cell_type": "code",
   "execution_count": 25,
   "metadata": {},
   "outputs": [
    {
     "data": {
      "text/html": [
       "<div>\n",
       "<style scoped>\n",
       "    .dataframe tbody tr th:only-of-type {\n",
       "        vertical-align: middle;\n",
       "    }\n",
       "\n",
       "    .dataframe tbody tr th {\n",
       "        vertical-align: top;\n",
       "    }\n",
       "\n",
       "    .dataframe thead th {\n",
       "        text-align: right;\n",
       "    }\n",
       "</style>\n",
       "<table border=\"1\" class=\"dataframe\">\n",
       "  <thead>\n",
       "    <tr style=\"text-align: right;\">\n",
       "      <th></th>\n",
       "      <th>PassengerId</th>\n",
       "      <th>Survived</th>\n",
       "    </tr>\n",
       "  </thead>\n",
       "  <tbody>\n",
       "    <tr>\n",
       "      <td>0</td>\n",
       "      <td>892</td>\n",
       "      <td>0.0</td>\n",
       "    </tr>\n",
       "    <tr>\n",
       "      <td>1</td>\n",
       "      <td>893</td>\n",
       "      <td>0.0</td>\n",
       "    </tr>\n",
       "    <tr>\n",
       "      <td>2</td>\n",
       "      <td>894</td>\n",
       "      <td>0.0</td>\n",
       "    </tr>\n",
       "    <tr>\n",
       "      <td>3</td>\n",
       "      <td>895</td>\n",
       "      <td>0.0</td>\n",
       "    </tr>\n",
       "    <tr>\n",
       "      <td>4</td>\n",
       "      <td>896</td>\n",
       "      <td>1.0</td>\n",
       "    </tr>\n",
       "    <tr>\n",
       "      <td>...</td>\n",
       "      <td>...</td>\n",
       "      <td>...</td>\n",
       "    </tr>\n",
       "    <tr>\n",
       "      <td>413</td>\n",
       "      <td>1305</td>\n",
       "      <td>0.0</td>\n",
       "    </tr>\n",
       "    <tr>\n",
       "      <td>414</td>\n",
       "      <td>1306</td>\n",
       "      <td>1.0</td>\n",
       "    </tr>\n",
       "    <tr>\n",
       "      <td>415</td>\n",
       "      <td>1307</td>\n",
       "      <td>0.0</td>\n",
       "    </tr>\n",
       "    <tr>\n",
       "      <td>416</td>\n",
       "      <td>1308</td>\n",
       "      <td>0.0</td>\n",
       "    </tr>\n",
       "    <tr>\n",
       "      <td>417</td>\n",
       "      <td>1309</td>\n",
       "      <td>0.0</td>\n",
       "    </tr>\n",
       "  </tbody>\n",
       "</table>\n",
       "<p>418 rows × 2 columns</p>\n",
       "</div>"
      ],
      "text/plain": [
       "     PassengerId  Survived\n",
       "0            892       0.0\n",
       "1            893       0.0\n",
       "2            894       0.0\n",
       "3            895       0.0\n",
       "4            896       1.0\n",
       "..           ...       ...\n",
       "413         1305       0.0\n",
       "414         1306       1.0\n",
       "415         1307       0.0\n",
       "416         1308       0.0\n",
       "417         1309       0.0\n",
       "\n",
       "[418 rows x 2 columns]"
      ]
     },
     "execution_count": 25,
     "metadata": {},
     "output_type": "execute_result"
    }
   ],
   "source": [
    "pddf = predictions.select(['PassengerId', 'prediction']).toPandas()\n",
    "pddf.columns = ['PassengerId', 'Survived']\n",
    "pddf"
   ]
  },
  {
   "cell_type": "code",
   "execution_count": 26,
   "metadata": {},
   "outputs": [],
   "source": [
    "pddf.to_csv('results.csv', index=False, header=True)"
   ]
  },
  {
   "cell_type": "code",
   "execution_count": 28,
   "metadata": {},
   "outputs": [],
   "source": [
    " LogisticRegression?"
   ]
  },
  {
   "cell_type": "code",
   "execution_count": null,
   "metadata": {},
   "outputs": [],
   "source": []
  }
 ],
 "metadata": {
  "kernelspec": {
   "display_name": "Python 3",
   "language": "python",
   "name": "python3"
  },
  "language_info": {
   "codemirror_mode": {
    "name": "ipython",
    "version": 3
   },
   "file_extension": ".py",
   "mimetype": "text/x-python",
   "name": "python",
   "nbconvert_exporter": "python",
   "pygments_lexer": "ipython3",
   "version": "3.7.4"
  }
 },
 "nbformat": 4,
 "nbformat_minor": 2
}
